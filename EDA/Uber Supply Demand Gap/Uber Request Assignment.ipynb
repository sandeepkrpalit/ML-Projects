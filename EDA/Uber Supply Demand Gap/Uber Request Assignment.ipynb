{
 "cells": [
  {
   "cell_type": "code",
   "execution_count": 8,
   "metadata": {
    "collapsed": true
   },
   "outputs": [],
   "source": [
    "# Supress Warnings\n",
    "\n",
    "import warnings\n",
    "warnings.filterwarnings('ignore')"
   ]
  },
  {
   "cell_type": "code",
   "execution_count": 9,
   "metadata": {
    "collapsed": true
   },
   "outputs": [],
   "source": [
    "# Import the packages\n",
    "\n",
    "import numpy as np\n",
    "import pandas as pd\n",
    "import matplotlib.pyplot as plt\n",
    "from matplotlib import style\n",
    "import seaborn as sns\n",
    "import datetime as dt"
   ]
  },
  {
   "cell_type": "markdown",
   "metadata": {},
   "source": [
    "### Checkpoint 1: Data Cleaning \n",
    "#### Checkpoint 1.1: Import and read the uber request data. Store it in a variable called Uber_Request."
   ]
  },
  {
   "cell_type": "code",
   "execution_count": 10,
   "metadata": {},
   "outputs": [
    {
     "name": "stdout",
     "output_type": "stream",
     "text": [
      "<class 'pandas.core.frame.DataFrame'>\n",
      "RangeIndex: 6745 entries, 0 to 6744\n",
      "Data columns (total 6 columns):\n",
      "Request id           6745 non-null int64\n",
      "Pickup point         6745 non-null object\n",
      "Driver id            4095 non-null float64\n",
      "Status               6745 non-null object\n",
      "Request timestamp    6745 non-null object\n",
      "Drop timestamp       2831 non-null object\n",
      "dtypes: float64(1), int64(1), object(4)\n",
      "memory usage: 316.2+ KB\n"
     ]
    }
   ],
   "source": [
    "Uber_Request = pd.read_csv(\"Uber Request Data.csv\", encoding=\"utf-8\")\n",
    "Uber_Request.info()"
   ]
  },
  {
   "cell_type": "markdown",
   "metadata": {},
   "source": [
    "#### Checkpoint 1.2: Formating Request timestamp and Drop timestamp into one generic timestamp format"
   ]
  },
  {
   "cell_type": "code",
   "execution_count": 7,
   "metadata": {},
   "outputs": [
    {
     "name": "stdout",
     "output_type": "stream",
     "text": [
      "<class 'pandas.core.frame.DataFrame'>\n",
      "RangeIndex: 6745 entries, 0 to 6744\n",
      "Data columns (total 6 columns):\n",
      "Request id           6745 non-null int64\n",
      "Pickup point         6745 non-null object\n",
      "Driver id            4095 non-null float64\n",
      "Status               6745 non-null object\n",
      "Request timestamp    6745 non-null datetime64[ns]\n",
      "Drop timestamp       2831 non-null datetime64[ns]\n",
      "dtypes: datetime64[ns](2), float64(1), int64(1), object(2)\n",
      "memory usage: 316.2+ KB\n"
     ]
    },
    {
     "data": {
      "text/html": [
       "<div>\n",
       "<style>\n",
       "    .dataframe thead tr:only-child th {\n",
       "        text-align: right;\n",
       "    }\n",
       "\n",
       "    .dataframe thead th {\n",
       "        text-align: left;\n",
       "    }\n",
       "\n",
       "    .dataframe tbody tr th {\n",
       "        vertical-align: top;\n",
       "    }\n",
       "</style>\n",
       "<table border=\"1\" class=\"dataframe\">\n",
       "  <thead>\n",
       "    <tr style=\"text-align: right;\">\n",
       "      <th></th>\n",
       "      <th>Request id</th>\n",
       "      <th>Pickup point</th>\n",
       "      <th>Driver id</th>\n",
       "      <th>Status</th>\n",
       "      <th>Request timestamp</th>\n",
       "      <th>Drop timestamp</th>\n",
       "    </tr>\n",
       "  </thead>\n",
       "  <tbody>\n",
       "    <tr>\n",
       "      <th>0</th>\n",
       "      <td>619</td>\n",
       "      <td>Airport</td>\n",
       "      <td>1.0</td>\n",
       "      <td>Trip Completed</td>\n",
       "      <td>2016-11-07 11:51:00</td>\n",
       "      <td>2016-11-07 13:00:00</td>\n",
       "    </tr>\n",
       "    <tr>\n",
       "      <th>1</th>\n",
       "      <td>867</td>\n",
       "      <td>Airport</td>\n",
       "      <td>1.0</td>\n",
       "      <td>Trip Completed</td>\n",
       "      <td>2016-11-07 17:57:00</td>\n",
       "      <td>2016-11-07 18:47:00</td>\n",
       "    </tr>\n",
       "    <tr>\n",
       "      <th>2</th>\n",
       "      <td>1807</td>\n",
       "      <td>City</td>\n",
       "      <td>1.0</td>\n",
       "      <td>Trip Completed</td>\n",
       "      <td>2016-12-07 09:17:00</td>\n",
       "      <td>2016-12-07 09:58:00</td>\n",
       "    </tr>\n",
       "    <tr>\n",
       "      <th>3</th>\n",
       "      <td>2532</td>\n",
       "      <td>Airport</td>\n",
       "      <td>1.0</td>\n",
       "      <td>Trip Completed</td>\n",
       "      <td>2016-12-07 21:08:00</td>\n",
       "      <td>2016-12-07 22:03:00</td>\n",
       "    </tr>\n",
       "    <tr>\n",
       "      <th>4</th>\n",
       "      <td>3112</td>\n",
       "      <td>City</td>\n",
       "      <td>1.0</td>\n",
       "      <td>Trip Completed</td>\n",
       "      <td>2016-07-13 08:33:16</td>\n",
       "      <td>2016-07-13 09:25:47</td>\n",
       "    </tr>\n",
       "  </tbody>\n",
       "</table>\n",
       "</div>"
      ],
      "text/plain": [
       "   Request id Pickup point  Driver id          Status   Request timestamp  \\\n",
       "0         619      Airport        1.0  Trip Completed 2016-11-07 11:51:00   \n",
       "1         867      Airport        1.0  Trip Completed 2016-11-07 17:57:00   \n",
       "2        1807         City        1.0  Trip Completed 2016-12-07 09:17:00   \n",
       "3        2532      Airport        1.0  Trip Completed 2016-12-07 21:08:00   \n",
       "4        3112         City        1.0  Trip Completed 2016-07-13 08:33:16   \n",
       "\n",
       "       Drop timestamp  \n",
       "0 2016-11-07 13:00:00  \n",
       "1 2016-11-07 18:47:00  \n",
       "2 2016-12-07 09:58:00  \n",
       "3 2016-12-07 22:03:00  \n",
       "4 2016-07-13 09:25:47  "
      ]
     },
     "execution_count": 7,
     "metadata": {},
     "output_type": "execute_result"
    }
   ],
   "source": [
    "# Formating Request timestamp and Drop timestamp into one generic timestamp format\n",
    "\n",
    "Uber_Request['Request timestamp'] = pd.to_datetime(Uber_Request['Request timestamp'])\n",
    "Uber_Request['Drop timestamp'] = pd.to_datetime(Uber_Request['Drop timestamp'])\n",
    "Uber_Request.info()\n",
    "\n",
    "Uber_Request.head()"
   ]
  },
  {
   "cell_type": "markdown",
   "metadata": {},
   "source": [
    "#### Checkpoint 1.3 Spliting the timestamp column to different derived columns"
   ]
  },
  {
   "cell_type": "code",
   "execution_count": 278,
   "metadata": {},
   "outputs": [
    {
     "data": {
      "text/html": [
       "<div>\n",
       "<style>\n",
       "    .dataframe thead tr:only-child th {\n",
       "        text-align: right;\n",
       "    }\n",
       "\n",
       "    .dataframe thead th {\n",
       "        text-align: left;\n",
       "    }\n",
       "\n",
       "    .dataframe tbody tr th {\n",
       "        vertical-align: top;\n",
       "    }\n",
       "</style>\n",
       "<table border=\"1\" class=\"dataframe\">\n",
       "  <thead>\n",
       "    <tr style=\"text-align: right;\">\n",
       "      <th></th>\n",
       "      <th>Request id</th>\n",
       "      <th>Pickup point</th>\n",
       "      <th>Driver id</th>\n",
       "      <th>Status</th>\n",
       "      <th>Request timestamp</th>\n",
       "      <th>Drop timestamp</th>\n",
       "      <th>Request date</th>\n",
       "      <th>Request time</th>\n",
       "      <th>Drop date</th>\n",
       "      <th>Drop time</th>\n",
       "      <th>Request hours</th>\n",
       "      <th>Drop hours</th>\n",
       "    </tr>\n",
       "  </thead>\n",
       "  <tbody>\n",
       "    <tr>\n",
       "      <th>0</th>\n",
       "      <td>619</td>\n",
       "      <td>Airport</td>\n",
       "      <td>1.0</td>\n",
       "      <td>Trip Completed</td>\n",
       "      <td>2016-11-07 11:51:00</td>\n",
       "      <td>2016-11-07 13:00:00</td>\n",
       "      <td>2016-11-07</td>\n",
       "      <td>11:51:00</td>\n",
       "      <td>2016-11-07</td>\n",
       "      <td>13:00:00</td>\n",
       "      <td>11</td>\n",
       "      <td>13.0</td>\n",
       "    </tr>\n",
       "    <tr>\n",
       "      <th>1</th>\n",
       "      <td>867</td>\n",
       "      <td>Airport</td>\n",
       "      <td>1.0</td>\n",
       "      <td>Trip Completed</td>\n",
       "      <td>2016-11-07 17:57:00</td>\n",
       "      <td>2016-11-07 18:47:00</td>\n",
       "      <td>2016-11-07</td>\n",
       "      <td>17:57:00</td>\n",
       "      <td>2016-11-07</td>\n",
       "      <td>18:47:00</td>\n",
       "      <td>17</td>\n",
       "      <td>18.0</td>\n",
       "    </tr>\n",
       "    <tr>\n",
       "      <th>2</th>\n",
       "      <td>1807</td>\n",
       "      <td>City</td>\n",
       "      <td>1.0</td>\n",
       "      <td>Trip Completed</td>\n",
       "      <td>2016-12-07 09:17:00</td>\n",
       "      <td>2016-12-07 09:58:00</td>\n",
       "      <td>2016-12-07</td>\n",
       "      <td>09:17:00</td>\n",
       "      <td>2016-12-07</td>\n",
       "      <td>09:58:00</td>\n",
       "      <td>9</td>\n",
       "      <td>9.0</td>\n",
       "    </tr>\n",
       "    <tr>\n",
       "      <th>3</th>\n",
       "      <td>2532</td>\n",
       "      <td>Airport</td>\n",
       "      <td>1.0</td>\n",
       "      <td>Trip Completed</td>\n",
       "      <td>2016-12-07 21:08:00</td>\n",
       "      <td>2016-12-07 22:03:00</td>\n",
       "      <td>2016-12-07</td>\n",
       "      <td>21:08:00</td>\n",
       "      <td>2016-12-07</td>\n",
       "      <td>22:03:00</td>\n",
       "      <td>21</td>\n",
       "      <td>22.0</td>\n",
       "    </tr>\n",
       "    <tr>\n",
       "      <th>4</th>\n",
       "      <td>3112</td>\n",
       "      <td>City</td>\n",
       "      <td>1.0</td>\n",
       "      <td>Trip Completed</td>\n",
       "      <td>2016-07-13 08:33:16</td>\n",
       "      <td>2016-07-13 09:25:47</td>\n",
       "      <td>2016-07-13</td>\n",
       "      <td>08:33:16</td>\n",
       "      <td>2016-07-13</td>\n",
       "      <td>09:25:47</td>\n",
       "      <td>8</td>\n",
       "      <td>9.0</td>\n",
       "    </tr>\n",
       "  </tbody>\n",
       "</table>\n",
       "</div>"
      ],
      "text/plain": [
       "   Request id Pickup point  Driver id          Status   Request timestamp  \\\n",
       "0         619      Airport        1.0  Trip Completed 2016-11-07 11:51:00   \n",
       "1         867      Airport        1.0  Trip Completed 2016-11-07 17:57:00   \n",
       "2        1807         City        1.0  Trip Completed 2016-12-07 09:17:00   \n",
       "3        2532      Airport        1.0  Trip Completed 2016-12-07 21:08:00   \n",
       "4        3112         City        1.0  Trip Completed 2016-07-13 08:33:16   \n",
       "\n",
       "       Drop timestamp Request date Request time   Drop date Drop time  \\\n",
       "0 2016-11-07 13:00:00   2016-11-07     11:51:00  2016-11-07  13:00:00   \n",
       "1 2016-11-07 18:47:00   2016-11-07     17:57:00  2016-11-07  18:47:00   \n",
       "2 2016-12-07 09:58:00   2016-12-07     09:17:00  2016-12-07  09:58:00   \n",
       "3 2016-12-07 22:03:00   2016-12-07     21:08:00  2016-12-07  22:03:00   \n",
       "4 2016-07-13 09:25:47   2016-07-13     08:33:16  2016-07-13  09:25:47   \n",
       "\n",
       "   Request hours  Drop hours  \n",
       "0             11        13.0  \n",
       "1             17        18.0  \n",
       "2              9         9.0  \n",
       "3             21        22.0  \n",
       "4              8         9.0  "
      ]
     },
     "execution_count": 278,
     "metadata": {},
     "output_type": "execute_result"
    }
   ],
   "source": [
    "#Spliting the Request timestamp column into Request date and Request time column\n",
    "\n",
    "Uber_Request['Request date'] = Uber_Request['Request timestamp'].dt.date\n",
    "Uber_Request['Request time'] = Uber_Request['Request timestamp'].dt.time\n",
    "\n",
    "#Spliting the  Drop timestamp column into Drop date and Drop time column\n",
    "\n",
    "Uber_Request['Drop date'] = Uber_Request['Drop timestamp'].dt.date\n",
    "Uber_Request['Drop time'] = Uber_Request['Drop timestamp'].dt.time\n",
    "\n",
    "#Spliting the  Request time column into Request hours column\n",
    "\n",
    "Uber_Request['Request hours'] = Uber_Request['Request timestamp'].dt.hour\n",
    "\n",
    "#Spliting the  Drop time column into Drop hours column\n",
    "\n",
    "Uber_Request['Drop hours'] = Uber_Request['Drop timestamp'].dt.hour\n",
    "\n",
    "Uber_Request.head()\n",
    "\n"
   ]
  },
  {
   "cell_type": "markdown",
   "metadata": {},
   "source": [
    "### Checkpoint 2: Visually identify the most pressing problems for Uber"
   ]
  },
  {
   "cell_type": "markdown",
   "metadata": {},
   "source": [
    "#### Checkpoint 2.1: To Identify the different status of the Trip from City to Airport and Airport to City"
   ]
  },
  {
   "cell_type": "code",
   "execution_count": 279,
   "metadata": {},
   "outputs": [
    {
     "name": "stdout",
     "output_type": "stream",
     "text": [
      "Count of Trip Status as Completed:\n",
      "2831\n",
      "Count of Trip Status as Cancelled:\n",
      "1264\n",
      "Count of Trip Status as No Cars Available:\n",
      "2650\n"
     ]
    }
   ],
   "source": [
    "#Count of Trip Status as Completed\n",
    "\n",
    "print(\"Count of Trip Status as Completed:\")\n",
    "print(Uber_Request.Status[Uber_Request[\"Status\"]==\"Trip Completed\"].count())\n",
    "\n",
    "#Count of Trip Cancelled\n",
    "\n",
    "print(\"Count of Trip Status as Cancelled:\")\n",
    "print(Uber_Request.Status[Uber_Request[\"Status\"]==\"Cancelled\"].count())\n",
    "\n",
    "#Count of Trip Status as No Car Available\n",
    "\n",
    "print(\"Count of Trip Status as No Cars Available:\")\n",
    "print(Uber_Request.Status[Uber_Request[\"Status\"]==\"No Cars Available\"].count())\n"
   ]
  },
  {
   "cell_type": "markdown",
   "metadata": {},
   "source": [
    "#### Checkpoint 2.2: Plot to show the different status of the Trip from City to Airport and Airport to City"
   ]
  },
  {
   "cell_type": "code",
   "execution_count": 280,
   "metadata": {},
   "outputs": [
    {
     "data": {
      "image/png": "[encoded data removed]",
      "text/plain": [
       "<matplotlib.figure.Figure at 0x6ad988d0>"
      ]
     },
     "metadata": {},
     "output_type": "display_data"
    }
   ],
   "source": [
    "sns.set_style('ticks')\n",
    "sns.countplot(Uber_Request['Status'], hue=Uber_Request['Status'])\n",
    "plt.show()\n"
   ]
  },
  {
   "cell_type": "markdown",
   "metadata": {},
   "source": [
    "Throughout our assignment we have used the matplotlib and seaborn libraries to plot the graph.\n",
    "We have mainly focused on <b> categorical data </b>, hence we have used countplot function to plot the graphs.\n",
    "\n",
    "The Above plot shows the count of different status of the Trip from `City to Airport` and `Airport to City`.\n",
    "\n",
    "We can see that count of `Trip completed` is 2831, count of `Trip Cancelled` is 1264 and count of `No Cars Available` is 2650."
   ]
  },
  {
   "cell_type": "markdown",
   "metadata": {},
   "source": [
    "#### Checkpoint 2.3: Frequency of requests that get 'cancelled' or show 'no cars available'"
   ]
  },
  {
   "cell_type": "code",
   "execution_count": 281,
   "metadata": {},
   "outputs": [
    {
     "data": {
      "text/html": [
       "<div>\n",
       "<style>\n",
       "    .dataframe thead tr:only-child th {\n",
       "        text-align: right;\n",
       "    }\n",
       "\n",
       "    .dataframe thead th {\n",
       "        text-align: left;\n",
       "    }\n",
       "\n",
       "    .dataframe tbody tr th {\n",
       "        vertical-align: top;\n",
       "    }\n",
       "</style>\n",
       "<table border=\"1\" class=\"dataframe\">\n",
       "  <thead>\n",
       "    <tr style=\"text-align: right;\">\n",
       "      <th></th>\n",
       "      <th>Request id</th>\n",
       "      <th>Pickup point</th>\n",
       "      <th>Driver id</th>\n",
       "      <th>Status</th>\n",
       "      <th>Request timestamp</th>\n",
       "      <th>Drop timestamp</th>\n",
       "      <th>Request date</th>\n",
       "      <th>Request time</th>\n",
       "      <th>Drop date</th>\n",
       "      <th>Drop time</th>\n",
       "      <th>Request hours</th>\n",
       "      <th>Drop hours</th>\n",
       "    </tr>\n",
       "  </thead>\n",
       "  <tbody>\n",
       "    <tr>\n",
       "      <th>2831</th>\n",
       "      <td>2905</td>\n",
       "      <td>City</td>\n",
       "      <td>1.0</td>\n",
       "      <td>Cancelled</td>\n",
       "      <td>2016-07-13 06:08:41</td>\n",
       "      <td>NaT</td>\n",
       "      <td>2016-07-13</td>\n",
       "      <td>06:08:41</td>\n",
       "      <td>NaN</td>\n",
       "      <td>NaN</td>\n",
       "      <td>6</td>\n",
       "      <td>NaN</td>\n",
       "    </tr>\n",
       "    <tr>\n",
       "      <th>2832</th>\n",
       "      <td>4805</td>\n",
       "      <td>City</td>\n",
       "      <td>1.0</td>\n",
       "      <td>Cancelled</td>\n",
       "      <td>2016-07-14 17:07:58</td>\n",
       "      <td>NaT</td>\n",
       "      <td>2016-07-14</td>\n",
       "      <td>17:07:58</td>\n",
       "      <td>NaN</td>\n",
       "      <td>NaN</td>\n",
       "      <td>17</td>\n",
       "      <td>NaN</td>\n",
       "    </tr>\n",
       "    <tr>\n",
       "      <th>2833</th>\n",
       "      <td>5202</td>\n",
       "      <td>Airport</td>\n",
       "      <td>1.0</td>\n",
       "      <td>Cancelled</td>\n",
       "      <td>2016-07-14 20:51:37</td>\n",
       "      <td>NaT</td>\n",
       "      <td>2016-07-14</td>\n",
       "      <td>20:51:37</td>\n",
       "      <td>NaN</td>\n",
       "      <td>NaN</td>\n",
       "      <td>20</td>\n",
       "      <td>NaN</td>\n",
       "    </tr>\n",
       "    <tr>\n",
       "      <th>2834</th>\n",
       "      <td>5927</td>\n",
       "      <td>City</td>\n",
       "      <td>1.0</td>\n",
       "      <td>Cancelled</td>\n",
       "      <td>2016-07-15 10:12:40</td>\n",
       "      <td>NaT</td>\n",
       "      <td>2016-07-15</td>\n",
       "      <td>10:12:40</td>\n",
       "      <td>NaN</td>\n",
       "      <td>NaN</td>\n",
       "      <td>10</td>\n",
       "      <td>NaN</td>\n",
       "    </tr>\n",
       "    <tr>\n",
       "      <th>2835</th>\n",
       "      <td>2347</td>\n",
       "      <td>Airport</td>\n",
       "      <td>2.0</td>\n",
       "      <td>Cancelled</td>\n",
       "      <td>2016-12-07 19:14:00</td>\n",
       "      <td>NaT</td>\n",
       "      <td>2016-12-07</td>\n",
       "      <td>19:14:00</td>\n",
       "      <td>NaN</td>\n",
       "      <td>NaN</td>\n",
       "      <td>19</td>\n",
       "      <td>NaN</td>\n",
       "    </tr>\n",
       "  </tbody>\n",
       "</table>\n",
       "</div>"
      ],
      "text/plain": [
       "      Request id Pickup point  Driver id     Status   Request timestamp  \\\n",
       "2831        2905         City        1.0  Cancelled 2016-07-13 06:08:41   \n",
       "2832        4805         City        1.0  Cancelled 2016-07-14 17:07:58   \n",
       "2833        5202      Airport        1.0  Cancelled 2016-07-14 20:51:37   \n",
       "2834        5927         City        1.0  Cancelled 2016-07-15 10:12:40   \n",
       "2835        2347      Airport        2.0  Cancelled 2016-12-07 19:14:00   \n",
       "\n",
       "     Drop timestamp Request date Request time Drop date Drop time  \\\n",
       "2831            NaT   2016-07-13     06:08:41       NaN       NaN   \n",
       "2832            NaT   2016-07-14     17:07:58       NaN       NaN   \n",
       "2833            NaT   2016-07-14     20:51:37       NaN       NaN   \n",
       "2834            NaT   2016-07-15     10:12:40       NaN       NaN   \n",
       "2835            NaT   2016-12-07     19:14:00       NaN       NaN   \n",
       "\n",
       "      Request hours  Drop hours  \n",
       "2831              6         NaN  \n",
       "2832             17         NaN  \n",
       "2833             20         NaN  \n",
       "2834             10         NaN  \n",
       "2835             19         NaN  "
      ]
     },
     "execution_count": 281,
     "metadata": {},
     "output_type": "execute_result"
    }
   ],
   "source": [
    "#Creating new dataframe taking status as Cancelled or No Cars Available\n",
    "\n",
    "Uber_Request_Problem = Uber_Request.loc[(Uber_Request['Status'] == 'Cancelled') | (Uber_Request['Status'] == 'No Cars Available')]\n",
    "Uber_Request_Problem.head()"
   ]
  },
  {
   "cell_type": "code",
   "execution_count": 282,
   "metadata": {},
   "outputs": [
    {
     "name": "stdout",
     "output_type": "stream",
     "text": [
      "Count of frequency of requests that get 'Cancelled' from City-to-Aiport:\n",
      "1066\n",
      "Count of frequency of requests that get 'Cancelled' from Airport-to-City:\n",
      "198\n",
      "Count of frequency of requests that show 'No Cars Available' from City-to-Aiport:\n",
      "937\n",
      "Count of frequency of requests that show 'No Cars Available' from Airport-to-City:\n",
      "1713\n"
     ]
    }
   ],
   "source": [
    "#Count of frequency of requests that get cancelled from City to Aiport\n",
    "\n",
    "print(\"Count of frequency of requests that get 'Cancelled' from City-to-Aiport:\")\n",
    "print(Uber_Request_Problem.Status[(Uber_Request_Problem['Status']== 'Cancelled') &(Uber_Request_Problem['Pickup point']=='City')].count())\n",
    "\n",
    "#Count of frequency of request that get cancelled from Airport to City\n",
    "\n",
    "print(\"Count of frequency of requests that get 'Cancelled' from Airport-to-City:\")\n",
    "print(Uber_Request_Problem.Status[(Uber_Request_Problem['Status']== 'Cancelled') &(Uber_Request_Problem['Pickup point']=='Airport')].count())\n",
    "\n",
    "#Count of frequency of requests that show no cars available from City to Aiport\n",
    "\n",
    "print(\"Count of frequency of requests that show 'No Cars Available' from City-to-Aiport:\")\n",
    "print(Uber_Request_Problem.Status[(Uber_Request_Problem['Status']== 'No Cars Available') &(Uber_Request_Problem['Pickup point']=='City')].count())\n",
    "\n",
    "#Count of frequency of requests that show no cars available from Airport to City\n",
    "\n",
    "print(\"Count of frequency of requests that show 'No Cars Available' from Airport-to-City:\")\n",
    "print(Uber_Request_Problem.Status[(Uber_Request_Problem['Status']== 'No Cars Available') &(Uber_Request_Problem['Pickup point']=='Airport')].count())\n",
    "\n"
   ]
  },
  {
   "cell_type": "markdown",
   "metadata": {},
   "source": [
    "#### Checkpoint 2.4: Plot to show the frequency of requests that get 'cancelled' or show 'no cars available' from 'City to Airport' & 'Airport to City'"
   ]
  },
  {
   "cell_type": "code",
   "execution_count": 283,
   "metadata": {},
   "outputs": [
    {
     "data": {
      "image/png": "[encoded data removed]",
      "text/plain": [
       "<matplotlib.figure.Figure at 0x6b08e358>"
      ]
     },
     "metadata": {},
     "output_type": "display_data"
    }
   ],
   "source": [
    "sns.countplot(Uber_Request_Problem['Status'], hue=Uber_Request_Problem['Pickup point'])\n",
    "plt.show()"
   ]
  },
  {
   "cell_type": "markdown",
   "metadata": {},
   "source": [
    "So, the above plot shows that Count of frequency of requests that get 'Cancelled' from City-to-Airport and Airport-to-City is 1066 and 198 respectively. So, we can say that cancellation is more from City to Aiport.\n",
    "\n",
    "The plot too shows the Count of frequency of requests that show 'No Cars Available' from City-to-Airport and Airport-to-City is 937 and 1713 respectively. So, we can say that availability of cars is less in Airport as compare to City.\n",
    "\n",
    "So, total no of request that get 'Cancelled' or show 'No Cars Available' from City-to-Airport is 2003 as compared to 1911 from Airport-to-City.\n",
    "\n",
    "So, the most problematic request is 'Cancelled' or show 'No Cars Available' from City-to-Airport."
   ]
  },
  {
   "cell_type": "markdown",
   "metadata": {},
   "source": [
    "#### Checkpoint 2.5: Frequency of requests based on different time slots"
   ]
  },
  {
   "cell_type": "code",
   "execution_count": 284,
   "metadata": {},
   "outputs": [
    {
     "data": {
      "text/html": [
       "<div>\n",
       "<style>\n",
       "    .dataframe thead tr:only-child th {\n",
       "        text-align: right;\n",
       "    }\n",
       "\n",
       "    .dataframe thead th {\n",
       "        text-align: left;\n",
       "    }\n",
       "\n",
       "    .dataframe tbody tr th {\n",
       "        vertical-align: top;\n",
       "    }\n",
       "</style>\n",
       "<table border=\"1\" class=\"dataframe\">\n",
       "  <thead>\n",
       "    <tr style=\"text-align: right;\">\n",
       "      <th></th>\n",
       "      <th>Request id</th>\n",
       "      <th>Pickup point</th>\n",
       "      <th>Driver id</th>\n",
       "      <th>Status</th>\n",
       "      <th>Request timestamp</th>\n",
       "      <th>Drop timestamp</th>\n",
       "      <th>Request date</th>\n",
       "      <th>Request time</th>\n",
       "      <th>Drop date</th>\n",
       "      <th>Drop time</th>\n",
       "      <th>Request hours</th>\n",
       "      <th>Drop hours</th>\n",
       "      <th>Time slots</th>\n",
       "    </tr>\n",
       "  </thead>\n",
       "  <tbody>\n",
       "    <tr>\n",
       "      <th>0</th>\n",
       "      <td>619</td>\n",
       "      <td>Airport</td>\n",
       "      <td>1.0</td>\n",
       "      <td>Trip Completed</td>\n",
       "      <td>2016-11-07 11:51:00</td>\n",
       "      <td>2016-11-07 13:00:00</td>\n",
       "      <td>2016-11-07</td>\n",
       "      <td>11:51:00</td>\n",
       "      <td>2016-11-07</td>\n",
       "      <td>13:00:00</td>\n",
       "      <td>11</td>\n",
       "      <td>13.0</td>\n",
       "      <td>Morning</td>\n",
       "    </tr>\n",
       "    <tr>\n",
       "      <th>1</th>\n",
       "      <td>867</td>\n",
       "      <td>Airport</td>\n",
       "      <td>1.0</td>\n",
       "      <td>Trip Completed</td>\n",
       "      <td>2016-11-07 17:57:00</td>\n",
       "      <td>2016-11-07 18:47:00</td>\n",
       "      <td>2016-11-07</td>\n",
       "      <td>17:57:00</td>\n",
       "      <td>2016-11-07</td>\n",
       "      <td>18:47:00</td>\n",
       "      <td>17</td>\n",
       "      <td>18.0</td>\n",
       "      <td>Evening</td>\n",
       "    </tr>\n",
       "    <tr>\n",
       "      <th>2</th>\n",
       "      <td>1807</td>\n",
       "      <td>City</td>\n",
       "      <td>1.0</td>\n",
       "      <td>Trip Completed</td>\n",
       "      <td>2016-12-07 09:17:00</td>\n",
       "      <td>2016-12-07 09:58:00</td>\n",
       "      <td>2016-12-07</td>\n",
       "      <td>09:17:00</td>\n",
       "      <td>2016-12-07</td>\n",
       "      <td>09:58:00</td>\n",
       "      <td>9</td>\n",
       "      <td>9.0</td>\n",
       "      <td>Morning</td>\n",
       "    </tr>\n",
       "    <tr>\n",
       "      <th>3</th>\n",
       "      <td>2532</td>\n",
       "      <td>Airport</td>\n",
       "      <td>1.0</td>\n",
       "      <td>Trip Completed</td>\n",
       "      <td>2016-12-07 21:08:00</td>\n",
       "      <td>2016-12-07 22:03:00</td>\n",
       "      <td>2016-12-07</td>\n",
       "      <td>21:08:00</td>\n",
       "      <td>2016-12-07</td>\n",
       "      <td>22:03:00</td>\n",
       "      <td>21</td>\n",
       "      <td>22.0</td>\n",
       "      <td>Night</td>\n",
       "    </tr>\n",
       "    <tr>\n",
       "      <th>4</th>\n",
       "      <td>3112</td>\n",
       "      <td>City</td>\n",
       "      <td>1.0</td>\n",
       "      <td>Trip Completed</td>\n",
       "      <td>2016-07-13 08:33:16</td>\n",
       "      <td>2016-07-13 09:25:47</td>\n",
       "      <td>2016-07-13</td>\n",
       "      <td>08:33:16</td>\n",
       "      <td>2016-07-13</td>\n",
       "      <td>09:25:47</td>\n",
       "      <td>8</td>\n",
       "      <td>9.0</td>\n",
       "      <td>Morning</td>\n",
       "    </tr>\n",
       "  </tbody>\n",
       "</table>\n",
       "</div>"
      ],
      "text/plain": [
       "   Request id Pickup point  Driver id          Status   Request timestamp  \\\n",
       "0         619      Airport        1.0  Trip Completed 2016-11-07 11:51:00   \n",
       "1         867      Airport        1.0  Trip Completed 2016-11-07 17:57:00   \n",
       "2        1807         City        1.0  Trip Completed 2016-12-07 09:17:00   \n",
       "3        2532      Airport        1.0  Trip Completed 2016-12-07 21:08:00   \n",
       "4        3112         City        1.0  Trip Completed 2016-07-13 08:33:16   \n",
       "\n",
       "       Drop timestamp Request date Request time   Drop date Drop time  \\\n",
       "0 2016-11-07 13:00:00   2016-11-07     11:51:00  2016-11-07  13:00:00   \n",
       "1 2016-11-07 18:47:00   2016-11-07     17:57:00  2016-11-07  18:47:00   \n",
       "2 2016-12-07 09:58:00   2016-12-07     09:17:00  2016-12-07  09:58:00   \n",
       "3 2016-12-07 22:03:00   2016-12-07     21:08:00  2016-12-07  22:03:00   \n",
       "4 2016-07-13 09:25:47   2016-07-13     08:33:16  2016-07-13  09:25:47   \n",
       "\n",
       "   Request hours  Drop hours Time slots  \n",
       "0             11        13.0    Morning  \n",
       "1             17        18.0    Evening  \n",
       "2              9         9.0    Morning  \n",
       "3             21        22.0      Night  \n",
       "4              8         9.0    Morning  "
      ]
     },
     "execution_count": 284,
     "metadata": {},
     "output_type": "execute_result"
    }
   ],
   "source": [
    "#Generating a new column Time_slots based on the request hours\n",
    "\n",
    "Uber_Request['Time slots'] = pd.cut(Uber_Request['Request hours'],[0,4,8,12,16,20,24], labels = [\"Late Night\",\"Early Morning\",\"Morning\",\"After Noon\",\"Evening\",\"Night\"],right=False)\n",
    "Uber_Request.head()"
   ]
  },
  {
   "cell_type": "code",
   "execution_count": 285,
   "metadata": {
    "collapsed": true
   },
   "outputs": [],
   "source": [
    "#Creating a dataframe Uber_City_to_Airport considering the request from City-to-Airport\n",
    "Uber_City_to_Airport = Uber_Request[Uber_Request['Pickup point']=='City']\n",
    "\n",
    "#Creating a dataframe Uber_City_to_Airport considering the request from Airport-to-City\n",
    "Uber_Airport_to_City = Uber_Request[Uber_Request['Pickup point']=='Airport']\n"
   ]
  },
  {
   "cell_type": "markdown",
   "metadata": {},
   "source": [
    "#### Checkpoint 2.6: Plot to show the frequency of requests from City-to-Airport and Airport-to-City in two different plots within different Time slots\n"
   ]
  },
  {
   "cell_type": "code",
   "execution_count": 286,
   "metadata": {},
   "outputs": [
    {
     "data": {
      "image/png": "[encoded data removed]",
      "text/plain": [
       "<matplotlib.figure.Figure at 0x6b51a5c0>"
      ]
     },
     "metadata": {},
     "output_type": "display_data"
    }
   ],
   "source": [
    "fig, ax =plt.subplots(1,2)\n",
    "fig.set_size_inches(13.7, 6.27)\n",
    "sns.countplot(Uber_City_to_Airport['Time slots'], hue=Uber_City_to_Airport['Status'], ax=ax[0])\n",
    "sns.countplot(Uber_Airport_to_City['Time slots'], hue=Uber_Airport_to_City['Status'], ax=ax[1])\n",
    "plt.show()"
   ]
  },
  {
   "cell_type": "markdown",
   "metadata": {},
   "source": [
    "The plots show that the frequency of request based on different time slots from City-to-Airport and Airport-to-City in plot1 and plot2 respectively."
   ]
  },
  {
   "cell_type": "markdown",
   "metadata": {},
   "source": [
    "### Checkpoint 3: Find out the gap between supply and demand \n",
    "\n",
    "#### Checkpoint 3.1 : the time slots when the highest gap exists"
   ]
  },
  {
   "cell_type": "code",
   "execution_count": 287,
   "metadata": {},
   "outputs": [
    {
     "name": "stdout",
     "output_type": "stream",
     "text": [
      "Total no of demands requested from City-to-Airport:\n",
      "3507\n",
      "Total no of demands requested from Airport-to-City:\n",
      "3238\n"
     ]
    }
   ],
   "source": [
    "#Total no of demands requested\n",
    "\n",
    "print(\"Total no of demands requested from City-to-Airport:\")\n",
    "print(Uber_City_to_Airport.Status.count())\n",
    "\n",
    "print(\"Total no of demands requested from Airport-to-City:\")\n",
    "print(Uber_Airport_to_City.Status.count())"
   ]
  },
  {
   "cell_type": "code",
   "execution_count": 288,
   "metadata": {},
   "outputs": [
    {
     "name": "stdout",
     "output_type": "stream",
     "text": [
      "Total no of supply or trip completed from City-to-Airport:\n",
      "1504\n",
      "Total no of supply or trip completed from City-to-Airport:\n",
      "1327\n"
     ]
    }
   ],
   "source": [
    "# Creating a new column as Supply in dataframe Uber_City_to_Airport \n",
    "Uber_City_to_Airport['Supply'] = Uber_City_to_Airport.Status.loc[Uber_City_to_Airport['Status']=='Trip Completed']\n",
    "\n",
    "# Creating a new column as Supply in dataframe Uber_Airport_to_City\n",
    "Uber_City_to_Airport['Supply'] = Uber_Airport_to_City.Status.loc[Uber_Airport_to_City['Status']=='Trip Completed']\n",
    "\n",
    "#Total no of supply or trip completed\n",
    "\n",
    "print(\"Total no of supply or trip completed from City-to-Airport:\")\n",
    "print(Uber_City_to_Airport.Status[Uber_City_to_Airport['Status']=='Trip Completed'].count())\n",
    "\n",
    "print(\"Total no of supply or trip completed from City-to-Airport:\")\n",
    "print(Uber_Airport_to_City.Status[Uber_Airport_to_City['Status']=='Trip Completed'].count())"
   ]
  },
  {
   "cell_type": "code",
   "execution_count": 289,
   "metadata": {},
   "outputs": [
    {
     "name": "stdout",
     "output_type": "stream",
     "text": [
      "Total no of gap betwen supply and demand from City-to-Airport:\n",
      "2003\n",
      "Total no of gap betwen supply and demand from Airport-to-City:\n",
      "1911\n"
     ]
    }
   ],
   "source": [
    "#Creating a new column as Gap in dataframe Uber_City_to_Airport\n",
    "Uber_City_to_Airport['Gap'] = Uber_City_to_Airport.Status.loc[(Uber_City_to_Airport['Status']=='Cancelled') | (Uber_City_to_Airport['Status']=='No Cars Available')]\n",
    "\n",
    "#Creating a new column as Gap in dataframe Uber_Airport_to_City\n",
    "Uber_Airport_to_City['Gap'] = Uber_Airport_to_City.Status.loc[(Uber_Airport_to_City['Status']=='Cancelled') | (Uber_Airport_to_City['Status']=='No Cars Available')]\n",
    "\n",
    "#Total no of gap betwen supply and demand\n",
    "\n",
    "print(\"Total no of gap betwen supply and demand from City-to-Airport:\")\n",
    "print(Uber_City_to_Airport.Status[(Uber_City_to_Airport['Status']=='Cancelled') | (Uber_City_to_Airport['Status']=='No Cars Available')].count())\n",
    "\n",
    "print(\"Total no of gap betwen supply and demand from Airport-to-City:\")\n",
    "print(Uber_Airport_to_City.Status[(Uber_Airport_to_City['Status']=='Cancelled') | (Uber_Airport_to_City['Status']=='No Cars Available')].count())\n"
   ]
  },
  {
   "cell_type": "markdown",
   "metadata": {},
   "source": [
    "#### Checkpoint 3.2: Plot to show the gap between supply and demand"
   ]
  },
  {
   "cell_type": "code",
   "execution_count": 290,
   "metadata": {},
   "outputs": [
    {
     "data": {
      "image/png": "[encoded data removed]",
      "text/plain": [
       "<matplotlib.figure.Figure at 0x6b5a1a20>"
      ]
     },
     "metadata": {},
     "output_type": "display_data"
    }
   ],
   "source": [
    "fig, ax =plt.subplots(1,2)\n",
    "fig.set_size_inches(13.7, 6.27)\n",
    "sns.countplot(Uber_City_to_Airport['Time slots'], hue=Uber_City_to_Airport['Gap'], ax=ax[0])\n",
    "sns.countplot(Uber_Airport_to_City['Time slots'], hue=Uber_Airport_to_City['Gap'], ax=ax[1])\n",
    "plt.show()"
   ]
  },
  {
   "cell_type": "markdown",
   "metadata": {},
   "source": [
    "The first plot shows the Gap between City-to-Airport and second plot shows the Gap between Airport-to-City.\n",
    "\n",
    "So, from the first plot we can say that the time slot where highest gap exist from <b>City-to-Airport</b> is <b>'Early Morning'</b>. The type of request from City-to-Airport for which the gap is the most severe in the <b>'Early Morning'</b> time slot is <b> 'Cancelled'</b>.\n",
    "\n",
    "And from the second plot we can say that the time slot where highest gap exist from <b>Airport-to-City</b> is <b>'Evening'</b>.\n",
    "The type of request from Airport-to-City for which the gap is the most severe in the <b>'Evening'</b> time slot is <b> 'No Cars Available'</b>."
   ]
  },
  {
   "cell_type": "code",
   "execution_count": null,
   "metadata": {
    "collapsed": true
   },
   "outputs": [],
   "source": []
  }
 ],
 "metadata": {
  "kernelspec": {
   "display_name": "Python 3",
   "language": "python",
   "name": "python3"
  },
  "language_info": {
   "codemirror_mode": {
    "name": "ipython",
    "version": 3
   },
   "file_extension": ".py",
   "mimetype": "text/x-python",
   "name": "python",
   "nbconvert_exporter": "python",
   "pygments_lexer": "ipython3",
   "version": "3.6.1"
  }
 },
 "nbformat": 4,
 "nbformat_minor": 2
}
